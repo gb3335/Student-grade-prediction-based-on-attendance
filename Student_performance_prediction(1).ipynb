{
  "nbformat": 4,
  "nbformat_minor": 0,
  "metadata": {
    "colab": {
      "name": "Student_performance_prediction.ipynb",
      "provenance": []
    },
    "kernelspec": {
      "name": "python3",
      "display_name": "Python 3"
    }
  },
  "cells": [
    {
      "cell_type": "code",
      "metadata": {
        "id": "LX1Kws4mL_8t",
        "colab_type": "code",
        "colab": {
          "base_uri": "https://localhost:8080/",
          "height": 208
        },
        "outputId": "3fd90ec7-1ecb-40de-cd49-8344d5995f7d"
      },
      "source": [
        "!wget -O student-mat.csv https://raw.githubusercontent.com/arunk13/MSDA-Assignments/master/IS607Fall2015/Assignment3/student-mat.csv"
      ],
      "execution_count": 2,
      "outputs": [
        {
          "output_type": "stream",
          "text": [
            "--2020-05-17 20:34:08--  https://raw.githubusercontent.com/arunk13/MSDA-Assignments/master/IS607Fall2015/Assignment3/student-mat.csv\n",
            "Resolving raw.githubusercontent.com (raw.githubusercontent.com)... 151.101.0.133, 151.101.64.133, 151.101.128.133, ...\n",
            "Connecting to raw.githubusercontent.com (raw.githubusercontent.com)|151.101.0.133|:443... connected.\n",
            "HTTP request sent, awaiting response... 200 OK\n",
            "Length: 56993 (56K) [text/plain]\n",
            "Saving to: ‘student-mat.csv’\n",
            "\n",
            "\rstudent-mat.csv       0%[                    ]       0  --.-KB/s               \rstudent-mat.csv     100%[===================>]  55.66K  --.-KB/s    in 0.03s   \n",
            "\n",
            "2020-05-17 20:34:08 (2.11 MB/s) - ‘student-mat.csv’ saved [56993/56993]\n",
            "\n"
          ],
          "name": "stdout"
        }
      ]
    },
    {
      "cell_type": "code",
      "metadata": {
        "id": "Mg_5zSPXSdN7",
        "colab_type": "code",
        "colab": {}
      },
      "source": [
        "import numpy as np\n",
        "import pandas as pd\n",
        "\n",
        "import seaborn as sns\n",
        "import matplotlib.pyplot as plt"
      ],
      "execution_count": 0,
      "outputs": []
    },
    {
      "cell_type": "code",
      "metadata": {
        "id": "HzB5w1N-Sgmq",
        "colab_type": "code",
        "colab": {
          "base_uri": "https://localhost:8080/",
          "height": 226
        },
        "outputId": "ea756ae8-db0a-4a06-a9bb-2a93fd62ecd0"
      },
      "source": [
        "df = pd.read_csv(\"student-mat.csv\", sep=\";\")\n",
        "df.head()"
      ],
      "execution_count": 39,
      "outputs": [
        {
          "output_type": "execute_result",
          "data": {
            "text/html": [
              "<div>\n",
              "<style scoped>\n",
              "    .dataframe tbody tr th:only-of-type {\n",
              "        vertical-align: middle;\n",
              "    }\n",
              "\n",
              "    .dataframe tbody tr th {\n",
              "        vertical-align: top;\n",
              "    }\n",
              "\n",
              "    .dataframe thead th {\n",
              "        text-align: right;\n",
              "    }\n",
              "</style>\n",
              "<table border=\"1\" class=\"dataframe\">\n",
              "  <thead>\n",
              "    <tr style=\"text-align: right;\">\n",
              "      <th></th>\n",
              "      <th>school</th>\n",
              "      <th>sex</th>\n",
              "      <th>age</th>\n",
              "      <th>address</th>\n",
              "      <th>famsize</th>\n",
              "      <th>Pstatus</th>\n",
              "      <th>Medu</th>\n",
              "      <th>Fedu</th>\n",
              "      <th>Mjob</th>\n",
              "      <th>Fjob</th>\n",
              "      <th>reason</th>\n",
              "      <th>guardian</th>\n",
              "      <th>traveltime</th>\n",
              "      <th>studytime</th>\n",
              "      <th>failures</th>\n",
              "      <th>schoolsup</th>\n",
              "      <th>famsup</th>\n",
              "      <th>paid</th>\n",
              "      <th>activities</th>\n",
              "      <th>nursery</th>\n",
              "      <th>higher</th>\n",
              "      <th>internet</th>\n",
              "      <th>romantic</th>\n",
              "      <th>famrel</th>\n",
              "      <th>freetime</th>\n",
              "      <th>goout</th>\n",
              "      <th>Dalc</th>\n",
              "      <th>Walc</th>\n",
              "      <th>health</th>\n",
              "      <th>absences</th>\n",
              "      <th>G1</th>\n",
              "      <th>G2</th>\n",
              "      <th>G3</th>\n",
              "    </tr>\n",
              "  </thead>\n",
              "  <tbody>\n",
              "    <tr>\n",
              "      <th>0</th>\n",
              "      <td>GP</td>\n",
              "      <td>F</td>\n",
              "      <td>18</td>\n",
              "      <td>U</td>\n",
              "      <td>GT3</td>\n",
              "      <td>A</td>\n",
              "      <td>4</td>\n",
              "      <td>4</td>\n",
              "      <td>at_home</td>\n",
              "      <td>teacher</td>\n",
              "      <td>course</td>\n",
              "      <td>mother</td>\n",
              "      <td>2</td>\n",
              "      <td>2</td>\n",
              "      <td>0</td>\n",
              "      <td>yes</td>\n",
              "      <td>no</td>\n",
              "      <td>no</td>\n",
              "      <td>no</td>\n",
              "      <td>yes</td>\n",
              "      <td>yes</td>\n",
              "      <td>no</td>\n",
              "      <td>no</td>\n",
              "      <td>4</td>\n",
              "      <td>3</td>\n",
              "      <td>4</td>\n",
              "      <td>1</td>\n",
              "      <td>1</td>\n",
              "      <td>3</td>\n",
              "      <td>6</td>\n",
              "      <td>5</td>\n",
              "      <td>6</td>\n",
              "      <td>6</td>\n",
              "    </tr>\n",
              "    <tr>\n",
              "      <th>1</th>\n",
              "      <td>GP</td>\n",
              "      <td>F</td>\n",
              "      <td>17</td>\n",
              "      <td>U</td>\n",
              "      <td>GT3</td>\n",
              "      <td>T</td>\n",
              "      <td>1</td>\n",
              "      <td>1</td>\n",
              "      <td>at_home</td>\n",
              "      <td>other</td>\n",
              "      <td>course</td>\n",
              "      <td>father</td>\n",
              "      <td>1</td>\n",
              "      <td>2</td>\n",
              "      <td>0</td>\n",
              "      <td>no</td>\n",
              "      <td>yes</td>\n",
              "      <td>no</td>\n",
              "      <td>no</td>\n",
              "      <td>no</td>\n",
              "      <td>yes</td>\n",
              "      <td>yes</td>\n",
              "      <td>no</td>\n",
              "      <td>5</td>\n",
              "      <td>3</td>\n",
              "      <td>3</td>\n",
              "      <td>1</td>\n",
              "      <td>1</td>\n",
              "      <td>3</td>\n",
              "      <td>4</td>\n",
              "      <td>5</td>\n",
              "      <td>5</td>\n",
              "      <td>6</td>\n",
              "    </tr>\n",
              "    <tr>\n",
              "      <th>2</th>\n",
              "      <td>GP</td>\n",
              "      <td>F</td>\n",
              "      <td>15</td>\n",
              "      <td>U</td>\n",
              "      <td>LE3</td>\n",
              "      <td>T</td>\n",
              "      <td>1</td>\n",
              "      <td>1</td>\n",
              "      <td>at_home</td>\n",
              "      <td>other</td>\n",
              "      <td>other</td>\n",
              "      <td>mother</td>\n",
              "      <td>1</td>\n",
              "      <td>2</td>\n",
              "      <td>3</td>\n",
              "      <td>yes</td>\n",
              "      <td>no</td>\n",
              "      <td>yes</td>\n",
              "      <td>no</td>\n",
              "      <td>yes</td>\n",
              "      <td>yes</td>\n",
              "      <td>yes</td>\n",
              "      <td>no</td>\n",
              "      <td>4</td>\n",
              "      <td>3</td>\n",
              "      <td>2</td>\n",
              "      <td>2</td>\n",
              "      <td>3</td>\n",
              "      <td>3</td>\n",
              "      <td>10</td>\n",
              "      <td>7</td>\n",
              "      <td>8</td>\n",
              "      <td>10</td>\n",
              "    </tr>\n",
              "    <tr>\n",
              "      <th>3</th>\n",
              "      <td>GP</td>\n",
              "      <td>F</td>\n",
              "      <td>15</td>\n",
              "      <td>U</td>\n",
              "      <td>GT3</td>\n",
              "      <td>T</td>\n",
              "      <td>4</td>\n",
              "      <td>2</td>\n",
              "      <td>health</td>\n",
              "      <td>services</td>\n",
              "      <td>home</td>\n",
              "      <td>mother</td>\n",
              "      <td>1</td>\n",
              "      <td>3</td>\n",
              "      <td>0</td>\n",
              "      <td>no</td>\n",
              "      <td>yes</td>\n",
              "      <td>yes</td>\n",
              "      <td>yes</td>\n",
              "      <td>yes</td>\n",
              "      <td>yes</td>\n",
              "      <td>yes</td>\n",
              "      <td>yes</td>\n",
              "      <td>3</td>\n",
              "      <td>2</td>\n",
              "      <td>2</td>\n",
              "      <td>1</td>\n",
              "      <td>1</td>\n",
              "      <td>5</td>\n",
              "      <td>2</td>\n",
              "      <td>15</td>\n",
              "      <td>14</td>\n",
              "      <td>15</td>\n",
              "    </tr>\n",
              "    <tr>\n",
              "      <th>4</th>\n",
              "      <td>GP</td>\n",
              "      <td>F</td>\n",
              "      <td>16</td>\n",
              "      <td>U</td>\n",
              "      <td>GT3</td>\n",
              "      <td>T</td>\n",
              "      <td>3</td>\n",
              "      <td>3</td>\n",
              "      <td>other</td>\n",
              "      <td>other</td>\n",
              "      <td>home</td>\n",
              "      <td>father</td>\n",
              "      <td>1</td>\n",
              "      <td>2</td>\n",
              "      <td>0</td>\n",
              "      <td>no</td>\n",
              "      <td>yes</td>\n",
              "      <td>yes</td>\n",
              "      <td>no</td>\n",
              "      <td>yes</td>\n",
              "      <td>yes</td>\n",
              "      <td>no</td>\n",
              "      <td>no</td>\n",
              "      <td>4</td>\n",
              "      <td>3</td>\n",
              "      <td>2</td>\n",
              "      <td>1</td>\n",
              "      <td>2</td>\n",
              "      <td>5</td>\n",
              "      <td>4</td>\n",
              "      <td>6</td>\n",
              "      <td>10</td>\n",
              "      <td>10</td>\n",
              "    </tr>\n",
              "  </tbody>\n",
              "</table>\n",
              "</div>"
            ],
            "text/plain": [
              "  school sex  age address famsize Pstatus  ...  Walc  health absences  G1  G2  G3\n",
              "0     GP   F   18       U     GT3       A  ...     1       3        6   5   6   6\n",
              "1     GP   F   17       U     GT3       T  ...     1       3        4   5   5   6\n",
              "2     GP   F   15       U     LE3       T  ...     3       3       10   7   8  10\n",
              "3     GP   F   15       U     GT3       T  ...     1       5        2  15  14  15\n",
              "4     GP   F   16       U     GT3       T  ...     2       5        4   6  10  10\n",
              "\n",
              "[5 rows x 33 columns]"
            ]
          },
          "metadata": {
            "tags": []
          },
          "execution_count": 39
        }
      ]
    },
    {
      "cell_type": "code",
      "metadata": {
        "id": "eGJZ3u8fpx8X",
        "colab_type": "code",
        "colab": {
          "base_uri": "https://localhost:8080/",
          "height": 300
        },
        "outputId": "55c5d088-6e82-4bbc-ed45-7b047296fdb0"
      },
      "source": [
        "df.describe()"
      ],
      "execution_count": 16,
      "outputs": [
        {
          "output_type": "execute_result",
          "data": {
            "text/html": [
              "<div>\n",
              "<style scoped>\n",
              "    .dataframe tbody tr th:only-of-type {\n",
              "        vertical-align: middle;\n",
              "    }\n",
              "\n",
              "    .dataframe tbody tr th {\n",
              "        vertical-align: top;\n",
              "    }\n",
              "\n",
              "    .dataframe thead th {\n",
              "        text-align: right;\n",
              "    }\n",
              "</style>\n",
              "<table border=\"1\" class=\"dataframe\">\n",
              "  <thead>\n",
              "    <tr style=\"text-align: right;\">\n",
              "      <th></th>\n",
              "      <th>age</th>\n",
              "      <th>Medu</th>\n",
              "      <th>Fedu</th>\n",
              "      <th>traveltime</th>\n",
              "      <th>studytime</th>\n",
              "      <th>failures</th>\n",
              "      <th>famrel</th>\n",
              "      <th>freetime</th>\n",
              "      <th>goout</th>\n",
              "      <th>Dalc</th>\n",
              "      <th>Walc</th>\n",
              "      <th>health</th>\n",
              "      <th>absences</th>\n",
              "      <th>G1</th>\n",
              "      <th>G2</th>\n",
              "      <th>G3</th>\n",
              "    </tr>\n",
              "  </thead>\n",
              "  <tbody>\n",
              "    <tr>\n",
              "      <th>count</th>\n",
              "      <td>395.000000</td>\n",
              "      <td>395.000000</td>\n",
              "      <td>395.000000</td>\n",
              "      <td>395.000000</td>\n",
              "      <td>395.000000</td>\n",
              "      <td>395.000000</td>\n",
              "      <td>395.000000</td>\n",
              "      <td>395.000000</td>\n",
              "      <td>395.000000</td>\n",
              "      <td>395.000000</td>\n",
              "      <td>395.000000</td>\n",
              "      <td>395.000000</td>\n",
              "      <td>395.000000</td>\n",
              "      <td>395.000000</td>\n",
              "      <td>395.000000</td>\n",
              "      <td>395.000000</td>\n",
              "    </tr>\n",
              "    <tr>\n",
              "      <th>mean</th>\n",
              "      <td>16.696203</td>\n",
              "      <td>2.749367</td>\n",
              "      <td>2.521519</td>\n",
              "      <td>1.448101</td>\n",
              "      <td>2.035443</td>\n",
              "      <td>0.334177</td>\n",
              "      <td>3.944304</td>\n",
              "      <td>3.235443</td>\n",
              "      <td>3.108861</td>\n",
              "      <td>1.481013</td>\n",
              "      <td>2.291139</td>\n",
              "      <td>3.554430</td>\n",
              "      <td>5.708861</td>\n",
              "      <td>10.908861</td>\n",
              "      <td>10.713924</td>\n",
              "      <td>10.415190</td>\n",
              "    </tr>\n",
              "    <tr>\n",
              "      <th>std</th>\n",
              "      <td>1.276043</td>\n",
              "      <td>1.094735</td>\n",
              "      <td>1.088201</td>\n",
              "      <td>0.697505</td>\n",
              "      <td>0.839240</td>\n",
              "      <td>0.743651</td>\n",
              "      <td>0.896659</td>\n",
              "      <td>0.998862</td>\n",
              "      <td>1.113278</td>\n",
              "      <td>0.890741</td>\n",
              "      <td>1.287897</td>\n",
              "      <td>1.390303</td>\n",
              "      <td>8.003096</td>\n",
              "      <td>3.319195</td>\n",
              "      <td>3.761505</td>\n",
              "      <td>4.581443</td>\n",
              "    </tr>\n",
              "    <tr>\n",
              "      <th>min</th>\n",
              "      <td>15.000000</td>\n",
              "      <td>0.000000</td>\n",
              "      <td>0.000000</td>\n",
              "      <td>1.000000</td>\n",
              "      <td>1.000000</td>\n",
              "      <td>0.000000</td>\n",
              "      <td>1.000000</td>\n",
              "      <td>1.000000</td>\n",
              "      <td>1.000000</td>\n",
              "      <td>1.000000</td>\n",
              "      <td>1.000000</td>\n",
              "      <td>1.000000</td>\n",
              "      <td>0.000000</td>\n",
              "      <td>3.000000</td>\n",
              "      <td>0.000000</td>\n",
              "      <td>0.000000</td>\n",
              "    </tr>\n",
              "    <tr>\n",
              "      <th>25%</th>\n",
              "      <td>16.000000</td>\n",
              "      <td>2.000000</td>\n",
              "      <td>2.000000</td>\n",
              "      <td>1.000000</td>\n",
              "      <td>1.000000</td>\n",
              "      <td>0.000000</td>\n",
              "      <td>4.000000</td>\n",
              "      <td>3.000000</td>\n",
              "      <td>2.000000</td>\n",
              "      <td>1.000000</td>\n",
              "      <td>1.000000</td>\n",
              "      <td>3.000000</td>\n",
              "      <td>0.000000</td>\n",
              "      <td>8.000000</td>\n",
              "      <td>9.000000</td>\n",
              "      <td>8.000000</td>\n",
              "    </tr>\n",
              "    <tr>\n",
              "      <th>50%</th>\n",
              "      <td>17.000000</td>\n",
              "      <td>3.000000</td>\n",
              "      <td>2.000000</td>\n",
              "      <td>1.000000</td>\n",
              "      <td>2.000000</td>\n",
              "      <td>0.000000</td>\n",
              "      <td>4.000000</td>\n",
              "      <td>3.000000</td>\n",
              "      <td>3.000000</td>\n",
              "      <td>1.000000</td>\n",
              "      <td>2.000000</td>\n",
              "      <td>4.000000</td>\n",
              "      <td>4.000000</td>\n",
              "      <td>11.000000</td>\n",
              "      <td>11.000000</td>\n",
              "      <td>11.000000</td>\n",
              "    </tr>\n",
              "    <tr>\n",
              "      <th>75%</th>\n",
              "      <td>18.000000</td>\n",
              "      <td>4.000000</td>\n",
              "      <td>3.000000</td>\n",
              "      <td>2.000000</td>\n",
              "      <td>2.000000</td>\n",
              "      <td>0.000000</td>\n",
              "      <td>5.000000</td>\n",
              "      <td>4.000000</td>\n",
              "      <td>4.000000</td>\n",
              "      <td>2.000000</td>\n",
              "      <td>3.000000</td>\n",
              "      <td>5.000000</td>\n",
              "      <td>8.000000</td>\n",
              "      <td>13.000000</td>\n",
              "      <td>13.000000</td>\n",
              "      <td>14.000000</td>\n",
              "    </tr>\n",
              "    <tr>\n",
              "      <th>max</th>\n",
              "      <td>22.000000</td>\n",
              "      <td>4.000000</td>\n",
              "      <td>4.000000</td>\n",
              "      <td>4.000000</td>\n",
              "      <td>4.000000</td>\n",
              "      <td>3.000000</td>\n",
              "      <td>5.000000</td>\n",
              "      <td>5.000000</td>\n",
              "      <td>5.000000</td>\n",
              "      <td>5.000000</td>\n",
              "      <td>5.000000</td>\n",
              "      <td>5.000000</td>\n",
              "      <td>75.000000</td>\n",
              "      <td>19.000000</td>\n",
              "      <td>19.000000</td>\n",
              "      <td>20.000000</td>\n",
              "    </tr>\n",
              "  </tbody>\n",
              "</table>\n",
              "</div>"
            ],
            "text/plain": [
              "              age        Medu        Fedu  ...          G1          G2          G3\n",
              "count  395.000000  395.000000  395.000000  ...  395.000000  395.000000  395.000000\n",
              "mean    16.696203    2.749367    2.521519  ...   10.908861   10.713924   10.415190\n",
              "std      1.276043    1.094735    1.088201  ...    3.319195    3.761505    4.581443\n",
              "min     15.000000    0.000000    0.000000  ...    3.000000    0.000000    0.000000\n",
              "25%     16.000000    2.000000    2.000000  ...    8.000000    9.000000    8.000000\n",
              "50%     17.000000    3.000000    2.000000  ...   11.000000   11.000000   11.000000\n",
              "75%     18.000000    4.000000    3.000000  ...   13.000000   13.000000   14.000000\n",
              "max     22.000000    4.000000    4.000000  ...   19.000000   19.000000   20.000000\n",
              "\n",
              "[8 rows x 16 columns]"
            ]
          },
          "metadata": {
            "tags": []
          },
          "execution_count": 16
        }
      ]
    },
    {
      "cell_type": "code",
      "metadata": {
        "id": "al3HQVj0p8AH",
        "colab_type": "code",
        "colab": {
          "base_uri": "https://localhost:8080/",
          "height": 34
        },
        "outputId": "b0ef3941-51c3-4e0a-8c2f-21348d02448d"
      },
      "source": [
        "df.shape"
      ],
      "execution_count": 17,
      "outputs": [
        {
          "output_type": "execute_result",
          "data": {
            "text/plain": [
              "(395, 33)"
            ]
          },
          "metadata": {
            "tags": []
          },
          "execution_count": 17
        }
      ]
    },
    {
      "cell_type": "code",
      "metadata": {
        "id": "MHr6fxWkqXSH",
        "colab_type": "code",
        "colab": {
          "base_uri": "https://localhost:8080/",
          "height": 121
        },
        "outputId": "f53e6004-3952-42cb-85cd-9a0171a19211"
      },
      "source": [
        "df.columns"
      ],
      "execution_count": 18,
      "outputs": [
        {
          "output_type": "execute_result",
          "data": {
            "text/plain": [
              "Index(['school', 'sex', 'age', 'address', 'famsize', 'Pstatus', 'Medu', 'Fedu',\n",
              "       'Mjob', 'Fjob', 'reason', 'guardian', 'traveltime', 'studytime',\n",
              "       'failures', 'schoolsup', 'famsup', 'paid', 'activities', 'nursery',\n",
              "       'higher', 'internet', 'romantic', 'famrel', 'freetime', 'goout', 'Dalc',\n",
              "       'Walc', 'health', 'absences', 'G1', 'G2', 'G3'],\n",
              "      dtype='object')"
            ]
          },
          "metadata": {
            "tags": []
          },
          "execution_count": 18
        }
      ]
    },
    {
      "cell_type": "code",
      "metadata": {
        "id": "0sTdYch3qd-i",
        "colab_type": "code",
        "colab": {
          "base_uri": "https://localhost:8080/",
          "height": 299
        },
        "outputId": "2932359c-2f10-49e4-fc7d-3a1f1029d221"
      },
      "source": [
        "df['Weekly_Alcohol'] = df['Dalc'] + df['Walc']\n",
        "\n",
        "plt.hist(df['Weekly_Alcohol'], bins=8)\n",
        "plt.title('Weekly alcohol consumption of students')\n",
        "plt.xlabel('Weekly alcohol consumption')\n",
        "plt.ylabel('Number of students')\n",
        "plt.xticks([0, 1, 2, 3, 4, 5, 6, 7, 8, 9, 10])\n",
        "plt.show()"
      ],
      "execution_count": 22,
      "outputs": [
        {
          "output_type": "display_data",
          "data": {
            "image/png": "[encoded data removed]",
            "text/plain": [
              "<Figure size 432x288 with 1 Axes>"
            ]
          },
          "metadata": {
            "tags": []
          }
        }
      ]
    },
    {
      "cell_type": "code",
      "metadata": {
        "id": "TfG8NcNursGC",
        "colab_type": "code",
        "colab": {
          "base_uri": "https://localhost:8080/",
          "height": 299
        },
        "outputId": "95d31012-0aee-41c2-f1bf-93330663c982"
      },
      "source": [
        "plt.hist(df['absences'])\n",
        "plt.title('Absences')\n",
        "plt.xlabel('Days of absence')\n",
        "plt.ylabel('Number of students')\n",
        "plt.yticks([0, 100, 200, 300, 400, 500])\n",
        "plt.show()"
      ],
      "execution_count": 20,
      "outputs": [
        {
          "output_type": "display_data",
          "data": {
            "image/png": "[encoded data removed]",
            "text/plain": [
              "<Figure size 432x288 with 1 Axes>"
            ]
          },
          "metadata": {
            "tags": []
          }
        }
      ]
    },
    {
      "cell_type": "code",
      "metadata": {
        "id": "H0j6_PTrsQwz",
        "colab_type": "code",
        "colab": {
          "base_uri": "https://localhost:8080/",
          "height": 34
        },
        "outputId": "6d6d69c6-fec5-47cb-c96f-edaa395109bd"
      },
      "source": [
        "Avg_Absence = np.average(df['absences'])\n",
        "print(round(Avg_Absence, 2))"
      ],
      "execution_count": 23,
      "outputs": [
        {
          "output_type": "stream",
          "text": [
            "5.71\n"
          ],
          "name": "stdout"
        }
      ]
    },
    {
      "cell_type": "code",
      "metadata": {
        "id": "X4jSDKgxsggU",
        "colab_type": "code",
        "colab": {
          "base_uri": "https://localhost:8080/",
          "height": 299
        },
        "outputId": "bb43df1a-c303-4f48-905e-396acba3baa6"
      },
      "source": [
        "sns.countplot(df.studytime)\n",
        "plt.title(\"Students study time\")\n",
        "plt.xlabel(\"Study time\")\n",
        "plt.ylabel(\"Number of students\")\n",
        "plt.show()"
      ],
      "execution_count": 26,
      "outputs": [
        {
          "output_type": "display_data",
          "data": {
            "image/png": "[encoded data removed]",
            "text/plain": [
              "<Figure size 432x288 with 1 Axes>"
            ]
          },
          "metadata": {
            "tags": []
          }
        }
      ]
    },
    {
      "cell_type": "code",
      "metadata": {
        "id": "iRM6LrYss-ve",
        "colab_type": "code",
        "colab": {
          "base_uri": "https://localhost:8080/",
          "height": 316
        },
        "outputId": "d65448f1-a2b7-4356-d0eb-6c4214a6dbaf"
      },
      "source": [
        "sns.countplot(df.sex)\n",
        "plt.title(\"gender\")"
      ],
      "execution_count": 27,
      "outputs": [
        {
          "output_type": "execute_result",
          "data": {
            "text/plain": [
              "Text(0.5, 1.0, 'gender')"
            ]
          },
          "metadata": {
            "tags": []
          },
          "execution_count": 27
        },
        {
          "output_type": "display_data",
          "data": {
            "image/png": "[encoded data removed]",
            "text/plain": [
              "<Figure size 432x288 with 1 Axes>"
            ]
          },
          "metadata": {
            "tags": []
          }
        }
      ]
    },
    {
      "cell_type": "code",
      "metadata": {
        "id": "inu7yLVPtRGa",
        "colab_type": "code",
        "colab": {
          "base_uri": "https://localhost:8080/",
          "height": 299
        },
        "outputId": "56803e18-df81-4538-8bda-2e30dcd55e77"
      },
      "source": [
        "sns.countplot(df.reason)\n",
        "plt.title(\"Reason to choose a school\")\n",
        "plt.xlabel(\"Reason\")\n",
        "plt.ylabel(\"Number of students\")\n",
        "plt.show()"
      ],
      "execution_count": 29,
      "outputs": [
        {
          "output_type": "display_data",
          "data": {
            "image/png": "[encoded data removed]",
            "text/plain": [
              "<Figure size 432x288 with 1 Axes>"
            ]
          },
          "metadata": {
            "tags": []
          }
        }
      ]
    },
    {
      "cell_type": "code",
      "metadata": {
        "id": "ugTzK4sPtaeH",
        "colab_type": "code",
        "colab": {
          "base_uri": "https://localhost:8080/",
          "height": 299
        },
        "outputId": "02fb7332-6069-456e-a785-f573253888ba"
      },
      "source": [
        "sns.countplot(df.health)\n",
        "plt.title(\"Students health situation\")\n",
        "plt.xlabel(\"Health situation\")\n",
        "plt.ylabel(\"Number of students\")\n",
        "plt.show()\n"
      ],
      "execution_count": 31,
      "outputs": [
        {
          "output_type": "display_data",
          "data": {
            "image/png": "[encoded data removed]",
            "text/plain": [
              "<Figure size 432x288 with 1 Axes>"
            ]
          },
          "metadata": {
            "tags": []
          }
        }
      ]
    },
    {
      "cell_type": "code",
      "metadata": {
        "id": "XvA3Axdytjxu",
        "colab_type": "code",
        "colab": {}
      },
      "source": [
        ""
      ],
      "execution_count": 0,
      "outputs": []
    },
    {
      "cell_type": "code",
      "metadata": {
        "id": "OHQrhiE5X4-F",
        "colab_type": "code",
        "colab": {
          "base_uri": "https://localhost:8080/",
          "height": 1000
        },
        "outputId": "eec188cb-2b1c-4c53-a72b-e6e0b148c16f"
      },
      "source": [
        "import pandas as pd\n",
        "import numpy as np\n",
        "import sklearn\n",
        "from sklearn import linear_model\n",
        "from sklearn.utils import shuffle\n",
        "import matplotlib.pyplot as plt\n",
        "from matplotlib import style\n",
        "import pickle\n",
        "\n",
        "style.use(\"ggplot\")\n",
        "\n",
        "# Import dataset with student's data\n",
        "data = pd.read_csv(\"student-mat.csv\", sep=\";\")\n",
        "\n",
        "# Select the value we want to predict\n",
        "predict = \"G3\"\n",
        "\n",
        "# List the variables we want to use for our predictions in this model\n",
        "data = data[[ \"G1\", \"G2\", \"G3\", \"studytime\", \"health\", \"famrel\", \"failures\", \"absences\"]]\n",
        "data = shuffle(data)\n",
        "\n",
        "x = np.array(data.drop([predict], 1))\n",
        "y = np.array(data[predict])\n",
        "\n",
        "x_train, x_test, y_train, y_test = sklearn.model_selection.train_test_split(x, y, test_size = 0.1)\n",
        "\n",
        "# Train model multiple times to find the highest accuracy\n",
        "best = 0\n",
        "for _ in range(200):\n",
        "    x_train, x_test, y_train, y_test = sklearn.model_selection.train_test_split(x, y, test_size = 0.1)\n",
        "\n",
        "    linear = linear_model.LinearRegression()\n",
        "\n",
        "    linear.fit(x_train, y_train)\n",
        "    acc = linear.score(x_test, y_test)\n",
        "    print(\"Accuracy: \" + str(acc))\n",
        "\n",
        "    # Save the highest accuracy\n",
        "    if (acc > best):\n",
        "        best = acc\n",
        "        with open(\"studentgrades.pickle\", \"wb\") as f:\n",
        "            pickle.dump(linear, f)\n"
      ],
      "execution_count": 10,
      "outputs": [
        {
          "output_type": "stream",
          "text": [
            "Accuracy: 0.87187645480413\n",
            "Accuracy: 0.9164650006795023\n",
            "Accuracy: 0.9157418384194894\n",
            "Accuracy: 0.7951979243505589\n",
            "Accuracy: 0.9327062311688209\n",
            "Accuracy: 0.9355084943368279\n",
            "Accuracy: 0.763998611793545\n",
            "Accuracy: 0.8136334861287919\n",
            "Accuracy: 0.8359534820358119\n",
            "Accuracy: 0.9358046984538306\n",
            "Accuracy: 0.7067400950376734\n",
            "Accuracy: 0.835460969172801\n",
            "Accuracy: 0.8228968726168173\n",
            "Accuracy: 0.8473868171960938\n",
            "Accuracy: 0.6917268367227456\n",
            "Accuracy: 0.9087436714804815\n",
            "Accuracy: 0.8263511794505023\n",
            "Accuracy: 0.9085419478266444\n",
            "Accuracy: 0.8482762081229119\n",
            "Accuracy: 0.7952849661433073\n",
            "Accuracy: 0.8067725492329798\n",
            "Accuracy: 0.7814738793327856\n",
            "Accuracy: 0.7908470777062103\n",
            "Accuracy: 0.8220873564053158\n",
            "Accuracy: 0.8755223000281038\n",
            "Accuracy: 0.8869630166716364\n",
            "Accuracy: 0.9078490480207929\n",
            "Accuracy: 0.9421007783923708\n",
            "Accuracy: 0.8651974135516043\n",
            "Accuracy: 0.8704659902557792\n",
            "Accuracy: 0.7554936032185695\n",
            "Accuracy: 0.808394072811513\n",
            "Accuracy: 0.7166758788064036\n",
            "Accuracy: 0.7441466063189406\n",
            "Accuracy: 0.6030660268271937\n",
            "Accuracy: 0.7192216652904191\n",
            "Accuracy: 0.8646361852850608\n",
            "Accuracy: 0.9075786400297925\n",
            "Accuracy: 0.8636605514381018\n",
            "Accuracy: 0.8873548747251687\n",
            "Accuracy: 0.9473182130423269\n",
            "Accuracy: 0.7554626446519919\n",
            "Accuracy: 0.8942383941505826\n",
            "Accuracy: 0.7794611309341635\n",
            "Accuracy: 0.8060481368367799\n",
            "Accuracy: 0.8262139202924372\n",
            "Accuracy: 0.8416650910498139\n",
            "Accuracy: 0.8429409902420196\n",
            "Accuracy: 0.8131920816442749\n",
            "Accuracy: 0.9236070790187014\n",
            "Accuracy: 0.7553404384396195\n",
            "Accuracy: 0.8946613454470939\n",
            "Accuracy: 0.8709284335547111\n",
            "Accuracy: 0.8370052543918722\n",
            "Accuracy: 0.8719873484629241\n",
            "Accuracy: 0.8533043059969733\n",
            "Accuracy: 0.9106544308377287\n",
            "Accuracy: 0.8805337726655695\n",
            "Accuracy: 0.8370261213272457\n",
            "Accuracy: 0.8610782446766168\n",
            "Accuracy: 0.9370345634745119\n",
            "Accuracy: 0.9234517832627636\n",
            "Accuracy: 0.7746348448442011\n",
            "Accuracy: 0.7515782713281778\n",
            "Accuracy: 0.8079988236660197\n",
            "Accuracy: 0.8485220047754125\n",
            "Accuracy: 0.8116362379798469\n",
            "Accuracy: 0.7396984543797442\n",
            "Accuracy: 0.7910224423981888\n",
            "Accuracy: 0.7166635853310592\n",
            "Accuracy: 0.7503259002388\n",
            "Accuracy: 0.7779424782393473\n",
            "Accuracy: 0.8692714267995489\n",
            "Accuracy: 0.7352412647009713\n",
            "Accuracy: 0.8695386719834335\n",
            "Accuracy: 0.7951111526308359\n",
            "Accuracy: 0.8580244033736378\n",
            "Accuracy: 0.8446429156642766\n",
            "Accuracy: 0.8540749551726633\n",
            "Accuracy: 0.8519967697686983\n",
            "Accuracy: 0.8176855685667498\n",
            "Accuracy: 0.9205434841890119\n",
            "Accuracy: 0.8565634029331598\n",
            "Accuracy: 0.8894210773430508\n",
            "Accuracy: 0.8281593850529547\n",
            "Accuracy: 0.8789638171247636\n",
            "Accuracy: 0.838805018555823\n",
            "Accuracy: 0.8088006317340765\n",
            "Accuracy: 0.7690945841629243\n",
            "Accuracy: 0.865168234399962\n",
            "Accuracy: 0.7410664302615104\n",
            "Accuracy: 0.8138864625681673\n",
            "Accuracy: 0.9100644214356798\n",
            "Accuracy: 0.8758131415933817\n",
            "Accuracy: 0.6820043801726996\n",
            "Accuracy: 0.7494810473609883\n",
            "Accuracy: 0.7549660356151753\n",
            "Accuracy: 0.837779952532658\n",
            "Accuracy: 0.9223846413104995\n",
            "Accuracy: 0.8981732145185184\n",
            "Accuracy: 0.8838331640926742\n",
            "Accuracy: 0.7891407531996537\n",
            "Accuracy: 0.8401763110599174\n",
            "Accuracy: 0.8238808598299252\n",
            "Accuracy: 0.8605612662333727\n",
            "Accuracy: 0.8001580625646478\n",
            "Accuracy: 0.8888307797571572\n",
            "Accuracy: 0.7641521017031914\n",
            "Accuracy: 0.5498852441949794\n",
            "Accuracy: 0.8535082973873643\n",
            "Accuracy: 0.7607553767856545\n",
            "Accuracy: 0.9359584082425262\n",
            "Accuracy: 0.6468195530980627\n",
            "Accuracy: 0.9048894158397659\n",
            "Accuracy: 0.8513983465678311\n",
            "Accuracy: 0.8311831229630061\n",
            "Accuracy: 0.7298861398872136\n",
            "Accuracy: 0.8588475289625144\n",
            "Accuracy: 0.9349273977493955\n",
            "Accuracy: 0.8809009953580342\n",
            "Accuracy: 0.7984443491531485\n",
            "Accuracy: 0.7712974189820582\n",
            "Accuracy: 0.7777900984711315\n",
            "Accuracy: 0.8070622826103709\n",
            "Accuracy: 0.8141656292057773\n",
            "Accuracy: 0.845886973390949\n",
            "Accuracy: 0.8858597460653518\n",
            "Accuracy: 0.8279031944799222\n",
            "Accuracy: 0.7759605545766111\n",
            "Accuracy: 0.7771836398661582\n",
            "Accuracy: 0.8055548187327665\n",
            "Accuracy: 0.85661448089907\n",
            "Accuracy: 0.7916697094327974\n",
            "Accuracy: 0.8542508388509483\n",
            "Accuracy: 0.7832406535240454\n",
            "Accuracy: 0.8166081158075541\n",
            "Accuracy: 0.8974354876174097\n",
            "Accuracy: 0.6099965443878621\n",
            "Accuracy: 0.7441906568041987\n",
            "Accuracy: 0.8599044493721952\n",
            "Accuracy: 0.7297152240349589\n",
            "Accuracy: 0.8782521065472307\n",
            "Accuracy: 0.867240937083809\n",
            "Accuracy: 0.8301266821936598\n",
            "Accuracy: 0.8584240112251116\n",
            "Accuracy: 0.9046729828148941\n",
            "Accuracy: 0.9334476687882931\n",
            "Accuracy: 0.8703747021578341\n",
            "Accuracy: 0.8295788892174372\n",
            "Accuracy: 0.8203609918056667\n",
            "Accuracy: 0.925004275831614\n",
            "Accuracy: 0.9245185526979891\n",
            "Accuracy: 0.7987066558294362\n",
            "Accuracy: 0.7758965403524261\n",
            "Accuracy: 0.8758520350659126\n",
            "Accuracy: 0.8808219973697005\n",
            "Accuracy: 0.7849654451177475\n",
            "Accuracy: 0.7615666361466371\n",
            "Accuracy: 0.7320368740649362\n",
            "Accuracy: 0.781056540021565\n",
            "Accuracy: 0.7623114866184519\n",
            "Accuracy: 0.7464836798118499\n",
            "Accuracy: 0.5853614755087739\n",
            "Accuracy: 0.7769016670456368\n",
            "Accuracy: 0.6853033399532762\n",
            "Accuracy: 0.6932313878775135\n",
            "Accuracy: 0.875496586585619\n",
            "Accuracy: 0.8812391459677681\n",
            "Accuracy: 0.7663097191431175\n",
            "Accuracy: 0.9035329430105407\n",
            "Accuracy: 0.7976694188713183\n",
            "Accuracy: 0.8200561130372876\n",
            "Accuracy: 0.8610295709839453\n",
            "Accuracy: 0.8521335482248531\n",
            "Accuracy: 0.8217808321819313\n",
            "Accuracy: 0.9217546816485013\n",
            "Accuracy: 0.8311197200234424\n",
            "Accuracy: 0.8594469685400842\n",
            "Accuracy: 0.8391191461203192\n",
            "Accuracy: 0.8887470238321694\n",
            "Accuracy: 0.8724508507192684\n",
            "Accuracy: 0.8681376775895129\n",
            "Accuracy: 0.8245446203865537\n",
            "Accuracy: 0.8960435164597981\n",
            "Accuracy: 0.7539932821021323\n",
            "Accuracy: 0.745841727934698\n",
            "Accuracy: 0.7121395104710088\n",
            "Accuracy: 0.7187231736973887\n",
            "Accuracy: 0.7538588436689427\n",
            "Accuracy: 0.8851799877828508\n",
            "Accuracy: 0.8237427138099576\n",
            "Accuracy: 0.9274197571250589\n",
            "Accuracy: 0.7836619863570353\n",
            "Accuracy: 0.85143234812891\n",
            "Accuracy: 0.7558667757748778\n",
            "Accuracy: 0.7757968828315651\n",
            "Accuracy: 0.8546631728848575\n",
            "Accuracy: 0.6668692351540046\n",
            "Accuracy: 0.7571260693301425\n",
            "Accuracy: 0.8055042418676267\n"
          ],
          "name": "stdout"
        }
      ]
    },
    {
      "cell_type": "code",
      "metadata": {
        "id": "9HXdcjcEhM7F",
        "colab_type": "code",
        "colab": {
          "base_uri": "https://localhost:8080/",
          "height": 34
        },
        "outputId": "32606054-1143-4bc0-b3c9-0d9f984ba974"
      },
      "source": [
        "print(\"Highest Accuracy:\", best)"
      ],
      "execution_count": 11,
      "outputs": [
        {
          "output_type": "stream",
          "text": [
            "Highest Accuracy: 0.9473182130423269\n"
          ],
          "name": "stdout"
        }
      ]
    },
    {
      "cell_type": "code",
      "metadata": {
        "id": "KJOFrEzyhvYn",
        "colab_type": "code",
        "colab": {
          "base_uri": "https://localhost:8080/",
          "height": 156
        },
        "outputId": "fad4c125-c753-4f63-fc4a-1a1d80e87ff1"
      },
      "source": [
        "# Load model\n",
        "pickle_in = open(\"studentgrades.pickle\", \"rb\")\n",
        "linear = pickle.load(pickle_in)\n",
        "\n",
        "print(\"-------------------------\")\n",
        "print('Coefficient: \\n', linear.coef_)\n",
        "print(\"-------------------------\")\n",
        "print('Intercept: \\n', linear.intercept_)\n",
        "print(\"-------------------------\")\n",
        "predictions = linear.predict(x_test)"
      ],
      "execution_count": 37,
      "outputs": [
        {
          "output_type": "stream",
          "text": [
            "-------------------------\n",
            "Coefficient: \n",
            " [ 0.15026683  0.99243826 -0.20504611  0.08065926  0.36727826 -0.29841932\n",
            "  0.03839774]\n",
            "-------------------------\n",
            "Intercept: \n",
            " -3.3395073131961137\n",
            "-------------------------\n"
          ],
          "name": "stdout"
        }
      ]
    },
    {
      "cell_type": "code",
      "metadata": {
        "id": "t7zcMYe0iXmn",
        "colab_type": "code",
        "colab": {
          "base_uri": "https://localhost:8080/",
          "height": 712
        },
        "outputId": "f35d7e0c-0c2d-4234-8400-eeade7eb58f5"
      },
      "source": [
        "# Print the predictions, the variables we used and the actual final grade\n",
        "for x in range(len(predictions)):\n",
        "    print(\"Predicted Final grade:\", predictions[x], \"\\t Data:\", x_test[x], \"\\t \\t \\tFinal grade:\", y_test[x])\n"
      ],
      "execution_count": 36,
      "outputs": [
        {
          "output_type": "stream",
          "text": [
            "Predicted Final grade: 7.70698382863389 \t Data: [10  8  2  2  4  0 10] \t \t \tFinal grade: 8\n",
            "Predicted Final grade: 6.783700636898464 \t Data: [ 7  7  1  4  4  0 14] \t \t \tFinal grade: 5\n",
            "Predicted Final grade: 7.270097992591333 \t Data: [ 9  8  2  3  3  0 10] \t \t \tFinal grade: 8\n",
            "Predicted Final grade: 10.72921417477863 \t Data: [13 11  2  4  4  1  3] \t \t \tFinal grade: 11\n",
            "Predicted Final grade: 10.619094517900542 \t Data: [10 11  2  5  4  0  2] \t \t \tFinal grade: 11\n",
            "Predicted Final grade: 4.19588598761053 \t Data: [5 5 2 3 5 0 4] \t \t \tFinal grade: 6\n",
            "Predicted Final grade: 15.340181734886785 \t Data: [15 15  2  5  4  0  2] \t \t \tFinal grade: 14\n",
            "Predicted Final grade: 13.398493115322436 \t Data: [14 13  1  2  4  0  8] \t \t \tFinal grade: 13\n",
            "Predicted Final grade: 10.993099544856596 \t Data: [13 11  2  5  4  0  0] \t \t \tFinal grade: 10\n",
            "Predicted Final grade: 20.405991340128374 \t Data: [18 19  1  4  5  0  6] \t \t \tFinal grade: 19\n",
            "Predicted Final grade: 10.171156994548332 \t Data: [10 11  2  4  3  0  2] \t \t \tFinal grade: 12\n",
            "Predicted Final grade: 11.98324868694631 \t Data: [14 12  2  3  4  1  8] \t \t \tFinal grade: 12\n",
            "Predicted Final grade: 15.535089791305735 \t Data: [16 15  2  1  5  0  2] \t \t \tFinal grade: 15\n",
            "Predicted Final grade: 18.435609112035394 \t Data: [16 18  2  1  5  0  0] \t \t \tFinal grade: 18\n",
            "Predicted Final grade: 5.149901021435122 \t Data: [7 7 2 3 3 2 4] \t \t \tFinal grade: 9\n",
            "Predicted Final grade: 6.87220597950461 \t Data: [7 8 2 2 4 0 0] \t \t \tFinal grade: 0\n",
            "Predicted Final grade: 9.957002846863958 \t Data: [10 10  1  2  5  0  2] \t \t \tFinal grade: 10\n",
            "Predicted Final grade: 10.61523072838821 \t Data: [10 11  2  4  4  0  4] \t \t \tFinal grade: 9\n",
            "Predicted Final grade: 9.737433240792065 \t Data: [10 10  4  5  5  0  6] \t \t \tFinal grade: 11\n",
            "Predicted Final grade: 15.167898708452382 \t Data: [13 15  1  5  4  0  0] \t \t \tFinal grade: 15\n",
            "Predicted Final grade: 5.215435860881071 \t Data: [8 7 2 3 4 3 0] \t \t \tFinal grade: 0\n",
            "Predicted Final grade: 4.3922526395641235 \t Data: [8 6 2 5 3 2 2] \t \t \tFinal grade: 5\n",
            "Predicted Final grade: 16.28983524241214 \t Data: [17 15  1  5  5  0  4] \t \t \tFinal grade: 16\n",
            "Predicted Final grade: 9.879985242421643 \t Data: [10 10  2  1  4  0 17] \t \t \tFinal grade: 10\n",
            "Predicted Final grade: 13.054771542613375 \t Data: [13 13  2  5  4  0  2] \t \t \tFinal grade: 13\n",
            "Predicted Final grade: 11.70702033767003 \t Data: [12 12  3  5  4  0  2] \t \t \tFinal grade: 11\n",
            "Predicted Final grade: -0.9186955573901745 \t Data: [7 0 1 5 4 1 0] \t \t \tFinal grade: 0\n",
            "Predicted Final grade: 5.928443018772542 \t Data: [7 8 2 5 3 3 2] \t \t \tFinal grade: 9\n",
            "Predicted Final grade: -1.4487895902848111 \t Data: [5 0 1 5 5 3 0] \t \t \tFinal grade: 0\n",
            "Predicted Final grade: 10.191792728690247 \t Data: [11 10  1  4  5  0  0] \t \t \tFinal grade: 10\n",
            "Predicted Final grade: 7.783984983327363 \t Data: [7 9 2 1 4 0 0] \t \t \tFinal grade: 8\n",
            "Predicted Final grade: 7.93891073649413 \t Data: [8 8 2 5 5 0 8] \t \t \tFinal grade: 6\n",
            "Predicted Final grade: 12.981300180536161 \t Data: [12 13  2  5  4  0  4] \t \t \tFinal grade: 13\n",
            "Predicted Final grade: 10.608042830590888 \t Data: [11 11  2  3  4  0  2] \t \t \tFinal grade: 10\n",
            "Predicted Final grade: 4.000681806960659 \t Data: [7 5 3 5 5 1 0] \t \t \tFinal grade: 0\n",
            "Predicted Final grade: 18.43646634040997 \t Data: [18 18  3  2  4  0  5] \t \t \tFinal grade: 19\n",
            "Predicted Final grade: 6.800654758507813 \t Data: [7 9 4 3 2 0 0] \t \t \tFinal grade: 0\n",
            "Predicted Final grade: 7.241511000263239 \t Data: [9 8 1 4 5 3 6] \t \t \tFinal grade: 10\n",
            "Predicted Final grade: 10.52351978120402 \t Data: [11 11  2  1  4  0  4] \t \t \tFinal grade: 11\n",
            "Predicted Final grade: 13.772468944314818 \t Data: [15 14  4  2  4  0  4] \t \t \tFinal grade: 14\n"
          ],
          "name": "stdout"
        }
      ]
    },
    {
      "cell_type": "code",
      "metadata": {
        "id": "_DPBuyw_imRE",
        "colab_type": "code",
        "colab": {
          "base_uri": "https://localhost:8080/",
          "height": 299
        },
        "outputId": "dd34a61c-a86b-4f62-c0c7-e1486c399ecc"
      },
      "source": [
        "# Create visualisation of the model\n",
        "plot = \"failures\"\n",
        "plt.scatter(data[plot], data[\"G3\"])\n",
        "plt.legend(loc=4)\n",
        "plt.xlabel(plot)\n",
        "plt.ylabel(\"Final Grade\")\n",
        "plt.show()"
      ],
      "execution_count": 14,
      "outputs": [
        {
          "output_type": "stream",
          "text": [
            "No handles with labels found to put in legend.\n"
          ],
          "name": "stderr"
        },
        {
          "output_type": "display_data",
          "data": {
            "image/png": "[encoded data removed]",
            "text/plain": [
              "<Figure size 432x288 with 1 Axes>"
            ]
          },
          "metadata": {
            "tags": []
          }
        }
      ]
    }
  ]
}